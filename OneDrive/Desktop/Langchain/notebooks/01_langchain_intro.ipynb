{
 "cells": [
  {
   "cell_type": "markdown",
   "id": "a99749bf",
   "metadata": {},
   "source": [
    "<div dir=\"rtl\" align=\"right\">\n",
    "\n",
    "# شروع کار با LangChain\n",
    "در این بخش، با نحوه بارگذاری کلید API و آماده‌سازی محیط برای کار با LangChain آشنا می‌شویم.\n",
    "\n",
    "</div>"
   ]
  },
  {
   "cell_type": "markdown",
   "id": "e237af68",
   "metadata": {},
   "source": [
    "<div dir=\"rtl\" align=\"right\">\n",
    "\n",
    "### بارگذاری کلید API و آماده‌سازی محیط\n",
    "در این سلول، کلید API را از فایل `.env` بارگذاری می‌کنیم تا بتوانیم به مدل‌های زبانی دسترسی داشته باشیم.\n",
    "\n",
    "</div>"
   ]
  },
  {
   "cell_type": "code",
   "execution_count": null,
   "id": "ac7ec8a2",
   "metadata": {},
   "outputs": [],
   "source": [
    "from dotenv import load_dotenv\n",
    "import os\n",
    "\n",
    "load_dotenv()\n",
    "\n",
    "openai_api_key = os.getenv(\"OPENAI_API_KEY\")"
   ]
  },
  {
   "cell_type": "markdown",
   "id": "8edcadb6",
   "metadata": {},
   "source": [
    "<div dir=\"rtl\" align=\"right\">\n",
    "\n",
    "### ساخت مدل زبانی\n",
    "در این سلول، یک مدل زبانی OpenAI را با تنظیمات دلخواه مقداردهی می‌کنیم.\n",
    "\n",
    "</div>"
   ]
  },
  {
   "cell_type": "code",
   "execution_count": 3,
   "id": "0b99c6b3",
   "metadata": {},
   "outputs": [
    {
     "name": "stdout",
     "output_type": "stream",
     "text": [
      "['1. ZenBlend', '2. EcoFusion', '3. PureVibe', '4. FreshEssence', '5. RenewRevive', '6. HarmonyGlow', '7. NatureScent', '8. SereneAura', '9. BlissBloom', '10. VitalityWave']\n"
     ]
    }
   ],
   "source": [
    "from langchain_openai import ChatOpenAI\n",
    "\n",
    "llm = ChatOpenAI(model=\"gpt-3.5-turbo\", temperature=0.6)\n",
    "response = llm.invoke(\"Generate a list of 10 names for a new product.\")\n",
    "name_list = response.content.split(\"\\n\")\n",
    "print(name_list)"
   ]
  },
  {
   "cell_type": "markdown",
   "id": "304a066e",
   "metadata": {},
   "source": [
    "<div dir=\"rtl\" align=\"right\">\n",
    "\n",
    "### آشنایی با PromptTemplate\n",
    "در این سلول، با مفهوم قالب‌های پرامپت (PromptTemplate) آشنا می‌شویم و یک نمونه ساده می‌سازیم.\n",
    "\n",
    "</div>"
   ]
  },
  {
   "cell_type": "code",
   "execution_count": null,
   "id": "074ce468",
   "metadata": {},
   "outputs": [
    {
     "name": "stdout",
     "output_type": "stream",
     "text": [
      "Write a message in Persian and in a friendly tone: Welcome to LangChain!\n"
     ]
    }
   ],
   "source": [
    "from langchain_core.prompts import PromptTemplate\n",
    "\n",
    "prompt = PromptTemplate(\n",
    "    template=\"Write a short message in {language} and in a {tone} tone: {message}\",\n",
    "    input_variables=[\"tone\", \"message\", \"language\"],\n",
    ")\n",
    "\n",
    "filled_prompt = prompt.format(tone=\"friendly\", language=\"Persian\", message=\"Welcome to LangChain!\")\n",
    "print(filled_prompt)"
   ]
  },
  {
   "cell_type": "markdown",
   "id": "4bef4438",
   "metadata": {},
   "source": [
    "<div dir=\"rtl\" align=\"right\">\n",
    "\n",
    "#### استفاده از قالب پرامپت برای تولید پیام\n",
    "</div>"
   ]
  },
  {
   "cell_type": "code",
   "execution_count": 5,
   "id": "e8d6aaef",
   "metadata": {},
   "outputs": [
    {
     "name": "stdout",
     "output_type": "stream",
     "text": [
      "خوش آمدید به لنگ‌چین! امیدواریم که اینجا اوقات خوشی داشته باشید و از خدمات ما لذت ببرید. هر گونه سوال یا درخواستی داشتید، خوشحال می‌شویم که کمک کنیم. با ما همراه باشید و تجربه‌ی خوبی داشته باشید.\n"
     ]
    }
   ],
   "source": [
    "response = llm.invoke(filled_prompt)\n",
    "print(response.content)"
   ]
  },
  {
   "cell_type": "markdown",
   "id": "8edb532c",
   "metadata": {},
   "source": [
    "<div dir=\"rtl\" align=\"right\">\n",
    "\n",
    "## گرفتن خروجی مدل با استفاده از قالب پرامپت\n",
    "در این سلول، پیام ساخته‌شده را به مدل می‌دهیم و خروجی مدل را مشاهده می‌کنیم.\n",
    "\n",
    "</div>"
   ]
  },
  {
   "cell_type": "code",
   "execution_count": 4,
   "id": "9e180b80",
   "metadata": {},
   "outputs": [
    {
     "name": "stdout",
     "output_type": "stream",
     "text": [
      "Title: \"Let's Dive In! A Beginner's Guide to Using LangChain Like a Pro\"\n",
      "Description: Welcome to \"Mastering LangChain: A Beginner's Guide to Seamless Language Learning!\" In this tutorial, we will show you how to use LangChain, a powerful tool that makes language learning easy and fun. Whether you're a total beginner or looking to brush up on your language skills, we've got you covered. Get ready to unlock the secrets to mastering a new language with LangChain!\n"
     ]
    }
   ],
   "source": [
    "from langchain_core.prompts import PromptTemplate\n",
    "from langchain_core.output_parsers import StrOutputParser\n",
    "from langchain_core.runnables import RunnablePassthrough\n",
    "\n",
    "# Title prompt template\n",
    "prompt_title = PromptTemplate(\n",
    "    template=\"Generate a catchy tutorial title in {language} and in a {tone} tone for: {message}\",\n",
    "    input_variables=[\"tone\", \"message\", \"language\"],\n",
    ")\n",
    "\n",
    "# Description prompt template\n",
    "prompt_desc = PromptTemplate(\n",
    "    template=\"Write a short description for a tutorial titled '{title}' in {language} and in a {tone} tone. The topic is: {message}\",\n",
    "    input_variables=[\"tone\", \"message\", \"language\", \"title\"],\n",
    ")\n",
    "\n",
    "# Output parser\n",
    "output_parser = StrOutputParser()\n",
    "\n",
    "# Title chain\n",
    "title_chain = prompt_title | llm | output_parser\n",
    "\n",
    "# Description chain (takes the output of title_chain)\n",
    "desc_chain = (\n",
    "    RunnablePassthrough.assign(title=title_chain)\n",
    "    | prompt_desc\n",
    "    | llm\n",
    "    | output_parser\n",
    ")\n",
    "\n",
    "# Example inputs\n",
    "inputs = {\"tone\": \"friendly\", \"language\": \"English\", \"message\": \"How to use LangChain for beginners\"}\n",
    "\n",
    "title = title_chain.invoke(inputs)\n",
    "description = desc_chain.invoke(inputs)\n",
    "\n",
    "print(\"Title:\", title)\n",
    "print(\"Description:\", description)"
   ]
  },
  {
   "cell_type": "markdown",
   "id": "56c61e56",
   "metadata": {},
   "source": [
    "<div dir=\"rtl\" align=\"right\">\n",
    "\n",
    "## پیاده‌سازی زنجیره تولید عنوان و توضیح آموزش\n",
    "در این سلول، دو زنجیره ساده برای تولید عنوان و توضیح آموزش پیاده‌سازی می‌کنیم و نتیجه را نمایش می‌دهیم.\n",
    "\n",
    "</div>"
   ]
  },
  {
   "cell_type": "code",
   "execution_count": 5,
   "id": "0446c36a",
   "metadata": {},
   "outputs": [
    {
     "name": "stdout",
     "output_type": "stream",
     "text": [
      "Title: \"راهنمای کاربردی برای مبتدیان: چگونه از لنگ‌چین استفاده کنیم؟\"\n",
      "Description: سلام دوستان! آیا می‌خواهید بیاموزید چگونه از لنگ‌چین استفاده کنید؟ در این ویدیو، راهنمای کامل و دوستانه‌ای برای مبتدیان تهیه کرده‌ایم تا به شما کمک کنیم از این ابزار مفید و کارآمد بهترین استفاده را ببرید. با ما همراه شوید و در کمترین زمان ممکن با لنگ‌چین آشنا شوید!\n"
     ]
    }
   ],
   "source": [
    "from langchain_core.prompts import PromptTemplate\n",
    "from langchain_core.output_parsers import StrOutputParser\n",
    "from langchain_core.runnables import RunnablePassthrough\n",
    "\n",
    "# Title prompt template\n",
    "prompt_title = PromptTemplate(\n",
    "    template=\"Generate a catchy tutorial title in {language} and in a {tone} tone for: {message}\",\n",
    "    input_variables=[\"tone\", \"message\", \"language\"],\n",
    ")\n",
    "\n",
    "# Description prompt template\n",
    "prompt_desc = PromptTemplate(\n",
    "    template=\"Write a short description for a tutorial titled '{title}' in {language} and in a {tone} tone. The topic is: {message}\",\n",
    "    input_variables=[\"tone\", \"message\", \"language\", \"title\"],\n",
    ")\n",
    "\n",
    "# Output parser\n",
    "output_parser = StrOutputParser()\n",
    "\n",
    "# Title chain\n",
    "title_chain = prompt_title | llm | output_parser\n",
    "\n",
    "# Description chain (takes the output of title_chain)\n",
    "desc_chain = (\n",
    "    RunnablePassthrough.assign(title=title_chain)\n",
    "    | prompt_desc\n",
    "    | llm\n",
    "    | output_parser\n",
    ")\n",
    "\n",
    "# Example inputs\n",
    "inputs = {\"tone\": \"friendly\", \"language\": \"Persian\", \"message\": \"How to use LangChain for beginners\"}\n",
    "\n",
    "title = title_chain.invoke(inputs)\n",
    "description = desc_chain.invoke(inputs)\n",
    "\n",
    "print(\"Title:\", title)\n",
    "print(\"Description:\", description)"
   ]
  },
  {
   "cell_type": "markdown",
   "id": "94adc183",
   "metadata": {},
   "source": [
    "<div dir=\"rtl\" align=\"right\">\n",
    "\n",
    "الان می‌تونید با تغییر «tone»، «language» یا «message» در دیکشنری «inputs» آزمایش کنید تا ببینید عنوان و توضیحات چجوری تغییر می‌کنند. این نشون میده که چجوری زنجیره‌ها به ما امکان می‌دهند گردش‌های کاری پیچیده‌تر و ماژولارتری را در LangChain بسازیم.\n",
    "\n",
    "</div>"
   ]
  }
 ],
 "metadata": {
  "kernelspec": {
   "display_name": "base",
   "language": "python",
   "name": "python3"
  },
  "language_info": {
   "codemirror_mode": {
    "name": "ipython",
    "version": 3
   },
   "file_extension": ".py",
   "mimetype": "text/x-python",
   "name": "python",
   "nbconvert_exporter": "python",
   "pygments_lexer": "ipython3",
   "version": "3.8.8"
  }
 },
 "nbformat": 4,
 "nbformat_minor": 5
}
